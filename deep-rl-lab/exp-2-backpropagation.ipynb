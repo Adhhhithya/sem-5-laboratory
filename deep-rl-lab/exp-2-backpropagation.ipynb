{
 "cells": [
  {
   "cell_type": "code",
   "execution_count": 16,
   "id": "8beda97d",
   "metadata": {},
   "outputs": [],
   "source": [
    "import numpy as np"
   ]
  },
  {
   "cell_type": "code",
   "execution_count": 17,
   "id": "08de6a16",
   "metadata": {},
   "outputs": [],
   "source": [
    "class NeuralNetwork:\n",
    "    def __init__(self,input_size,hidden_size,output_size,learning_rate=0.01):\n",
    "        self.input_size = input_size\n",
    "        self.hidden_size = hidden_size\n",
    "        self.output_size = output_size\n",
    "        self.learning_rate = learning_rate\n",
    "        \n",
    "        self.weights_input_hidden = np.random.randn(self.input_size,self.hidden_size)\n",
    "        self.bias_hidden = np.zeros((1,self.hidden_size))\n",
    "        self.weights_hidden_output = np.random.randn(self.hidden_size,self.output_size)\n",
    "        self.bias_output = np.zeros((1,self.output_size))\n",
    "        \n",
    "    def sigmoid(self,x):\n",
    "        return 1 /(1+ np.exp(-x))\n",
    "    \n",
    "    def sigmoid_derivative(self,x):\n",
    "        return x*(1-x)\n",
    "    \n",
    "    def forward(self,X):\n",
    "        self.hidden_input = np.dot(X,self.weights_input_hidden)+self.bias_hidden\n",
    "        self.hidden_output = self.sigmoid(self.hidden_input)\n",
    "        self.output = np.dot(self.hidden_output,self.weights_hidden_output)+self.bias_output\n",
    "        self.predicted_output = self.sigmoid(self.output)\n",
    "        return self.predicted_output\n",
    "    \n",
    "    def backward(self,X,y,output):\n",
    "        error_output = y - output\n",
    "        delta_output = error_output * self.sigmoid_derivative(output)\n",
    "        error_hidden = delta_output.dot(self.weights_hidden_output.T)\n",
    "        delta_hidden = error_hidden * self.sigmoid_derivative(self.hidden_output)\n",
    "        \n",
    "        self.weights_hidden_output+= self.hidden_output.T.dot(delta_output)*self.learning_rate\n",
    "        self.bias_output+= np.sum(delta_output,axis=0,keepdims=True)*self.learning_rate\n",
    "        self.weights_input_hidden+= X.T.dot(delta_hidden)*self.learning_rate\n",
    "        self.bias_hidden += np.sum(delta_hidden,axis=0,keepdims=True)*self.learning_rate\n",
    "        \n",
    "    def train(self,X,y,epochs):\n",
    "        for epoch in range(epochs):\n",
    "            output = self.forward(X)\n",
    "            self.backward(X,y,output)"
   ]
  },
  {
   "cell_type": "code",
   "execution_count": 18,
   "id": "fbd2ee65",
   "metadata": {},
   "outputs": [
    {
     "name": "stdout",
     "output_type": "stream",
     "text": [
      "Predcited Output :\n",
      "[[0.04348753]\n",
      " [0.96298685]\n",
      " [0.95971354]\n",
      " [0.03863484]]\n"
     ]
    }
   ],
   "source": [
    "X = np.array([\n",
    "    [0,0],\n",
    "    [0,1],\n",
    "    [1,0],\n",
    "    [1,1]    \n",
    "])\n",
    "y= np.array([\n",
    "    [0],[1],[1],[0]\n",
    "])\n",
    "\n",
    "input_size =2\n",
    "hidden_size =4\n",
    "output_size =1\n",
    "learning_rate = 0.01\n",
    "epochs = 100000\n",
    "\n",
    "nn = NeuralNetwork(input_size,hidden_size,output_size,learning_rate)\n",
    "nn.train(X,y,epochs)\n",
    "\n",
    "test_input = np.array([\n",
    "    [0,0],\n",
    "    [0,1],\n",
    "    [1,0],\n",
    "    [1,1]\n",
    "])\n",
    "\n",
    "predicted_output = nn.forward(test_input)\n",
    "print(\"Predcited Output :\")\n",
    "print(predicted_output)"
   ]
  }
 ],
 "metadata": {
  "kernelspec": {
   "display_name": "Python 3",
   "language": "python",
   "name": "python3"
  },
  "language_info": {
   "codemirror_mode": {
    "name": "ipython",
    "version": 3
   },
   "file_extension": ".py",
   "mimetype": "text/x-python",
   "name": "python",
   "nbconvert_exporter": "python",
   "pygments_lexer": "ipython3",
   "version": "3.11.0"
  }
 },
 "nbformat": 4,
 "nbformat_minor": 5
}
