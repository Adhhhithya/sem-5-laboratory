{
 "cells": [
  {
   "cell_type": "code",
   "execution_count": 7,
   "id": "29c6e71a",
   "metadata": {},
   "outputs": [],
   "source": [
    "import numpy as np"
   ]
  },
  {
   "cell_type": "code",
   "execution_count": 8,
   "id": "6eea2067",
   "metadata": {},
   "outputs": [],
   "source": [
    "class BanditEnvironment:\n",
    "    def __init__(self, probabilities):\n",
    "        self.probabilities = probabilities\n",
    "        self.num_arms = len(probabilities)\n",
    "    def pull(self, arm):\n",
    "        return 1 if np.random.rand() < self.probabilities[arm] else 0"
   ]
  },
  {
   "cell_type": "code",
   "execution_count": 9,
   "id": "2191f414",
   "metadata": {},
   "outputs": [],
   "source": [
    "class EpsilonGreedy:\n",
    "    def __init__(self, num_arms, epsilon=0.1):\n",
    "        self.num_arms = num_arms\n",
    "        self.epsilon = epsilon\n",
    "        self.counts = np.zeros(num_arms)\n",
    "        self.values = np.zeros(num_arms)\n",
    "\n",
    "    def select_arm(self):\n",
    "        if np.random.rand() < self.epsilon:\n",
    "            return np.random.randint(self.num_arms)\n",
    "        else:\n",
    "            return int(np.argmax(self.values))\n",
    "\n",
    "    def update(self, arm, reward):\n",
    "        self.counts[arm] += 1\n",
    "        n = self.counts[arm]\n",
    "        old_value = self.values[arm]\n",
    "        new_value = old_value + (1.0 / n) * (reward - old_value)\n",
    "        self.values[arm] = new_value"
   ]
  },
  {
   "cell_type": "code",
   "execution_count": 10,
   "id": "498f0d34",
   "metadata": {},
   "outputs": [],
   "source": [
    "def simulate(env,agent,num_pulls):\n",
    "    rewards = np.zeros(num_pulls)\n",
    "    for i in range(num_pulls):\n",
    "        arm = agent.select_arm()\n",
    "        reward = env.pull(arm)\n",
    "        agent.update(arm,reward)\n",
    "        rewards[i]=reward\n",
    "    return rewards"
   ]
  },
  {
   "cell_type": "code",
   "execution_count": 11,
   "id": "b8a260e7",
   "metadata": {},
   "outputs": [
    {
     "name": "stdout",
     "output_type": "stream",
     "text": [
      "Total Rewards after 1000 pulls: 764\n",
      "Estimated values: [0.04761905 0.36111111 0.81236443]\n",
      "Number of times each arm was pulled: [ 42.  36. 922.]\n"
     ]
    }
   ],
   "source": [
    "probabilities = [0.1, 0.5, 0.8]\n",
    "env = BanditEnvironment(probabilities)\n",
    "epsilon = 0.1\n",
    "agent = EpsilonGreedy(num_arms=env.num_arms, epsilon=epsilon)\n",
    "num_pulls = 1000\n",
    "rewards = simulate(env, agent, num_pulls)\n",
    "print(f\"Total Rewards after {num_pulls} pulls: {int(np.sum(rewards))}\")\n",
    "print('Estimated values:', agent.values)\n",
    "print('Number of times each arm was pulled:', agent.counts)"
   ]
  }
 ],
 "metadata": {
  "kernelspec": {
   "display_name": "Python 3",
   "language": "python",
   "name": "python3"
  },
  "language_info": {
   "codemirror_mode": {
    "name": "ipython",
    "version": 3
   },
   "file_extension": ".py",
   "mimetype": "text/x-python",
   "name": "python",
   "nbconvert_exporter": "python",
   "pygments_lexer": "ipython3",
   "version": "3.11.0"
  }
 },
 "nbformat": 4,
 "nbformat_minor": 5
}
