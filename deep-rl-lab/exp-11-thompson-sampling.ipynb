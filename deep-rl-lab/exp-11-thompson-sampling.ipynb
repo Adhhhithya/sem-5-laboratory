{
 "cells": [
  {
   "cell_type": "code",
   "execution_count": 1,
   "id": "25acd28a",
   "metadata": {},
   "outputs": [],
   "source": [
    "import numpy as np"
   ]
  },
  {
   "cell_type": "code",
   "execution_count": 2,
   "id": "2b61c4af",
   "metadata": {},
   "outputs": [
    {
     "name": "stdout",
     "output_type": "stream",
     "text": [
      "Trail :0\t succ_fail : [[0, 0], [1, 0], [0, 0]]\n",
      "Trail :10\t succ_fail : [[0, 2], [6, 1], [0, 2]]\n",
      "Trail :20\t succ_fail : [[0, 2], [15, 2], [0, 2]]\n",
      "Trail :30\t succ_fail : [[0, 2], [24, 3], [0, 2]]\n",
      "Trail :40\t succ_fail : [[0, 2], [30, 7], [0, 2]]\n",
      "Trail :50\t succ_fail : [[0, 2], [37, 10], [0, 2]]\n",
      "Trail :60\t succ_fail : [[0, 2], [46, 11], [0, 2]]\n",
      "Trail :70\t succ_fail : [[0, 2], [54, 13], [0, 2]]\n",
      "Trail :80\t succ_fail : [[0, 2], [63, 14], [0, 2]]\n",
      "Trail :90\t succ_fail : [[0, 2], [71, 15], [0, 3]]\n",
      "Trail :100\t succ_fail : [[0, 2], [78, 18], [0, 3]]\n"
     ]
    }
   ],
   "source": [
    "actual_prob =[0.1,0.7,0,5]\n",
    "succ_fail = [[0,0],[0,0],[0,0]]\n",
    "\n",
    "for trail in range(101):\n",
    "    samples = [np.random.beta(s+1,f+1) for s,f in succ_fail]\n",
    "    best_arm = np.argmax(samples)\n",
    "    \n",
    "    if np.random.uniform() < actual_prob[best_arm]:\n",
    "        succ_fail[best_arm][0]+=1\n",
    "    else:\n",
    "        succ_fail[best_arm][1]+=1\n",
    "    \n",
    "    if trail%10==0:\n",
    "        print(f\"Trail :{trail}\\t succ_fail : {succ_fail}\")"
   ]
  }
 ],
 "metadata": {
  "kernelspec": {
   "display_name": "Python 3",
   "language": "python",
   "name": "python3"
  },
  "language_info": {
   "codemirror_mode": {
    "name": "ipython",
    "version": 3
   },
   "file_extension": ".py",
   "mimetype": "text/x-python",
   "name": "python",
   "nbconvert_exporter": "python",
   "pygments_lexer": "ipython3",
   "version": "3.11.0"
  }
 },
 "nbformat": 4,
 "nbformat_minor": 5
}
