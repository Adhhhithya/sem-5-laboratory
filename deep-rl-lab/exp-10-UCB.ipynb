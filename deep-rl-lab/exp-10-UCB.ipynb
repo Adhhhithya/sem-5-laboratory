{
 "cells": [
  {
   "cell_type": "code",
   "execution_count": 1,
   "id": "0a8281a5",
   "metadata": {},
   "outputs": [],
   "source": [
    "import numpy as np"
   ]
  },
  {
   "cell_type": "code",
   "execution_count": 2,
   "id": "cd1b42f3",
   "metadata": {},
   "outputs": [],
   "source": [
    "class UCB:\n",
    "    def __init__(self,n_arms,c=2):\n",
    "        self.n_arms=n_arms\n",
    "        self.c=c\n",
    "        self.counts=np.zeros(n_arms)\n",
    "        self.values=np.zeros(n_arms)\n",
    "        \n",
    "    def select_arm(self):\n",
    "        total_counts = np.sum(self.counts)\n",
    "        if 0 in self.counts:\n",
    "            return np.argmin(self.counts)\n",
    "        ucb_values = self.values + self.c*np.sqrt(np.log(total_counts)/(self.counts+1e-5))\n",
    "        return np.argmax(ucb_values)\n",
    "    \n",
    "    def update(self,chosen_arm,reward):\n",
    "        self.counts[chosen_arm]+=1\n",
    "        n = self.counts[chosen_arm]\n",
    "        self.values[chosen_arm]+= (reward - self.values[chosen_arm])/n"
   ]
  },
  {
   "cell_type": "code",
   "execution_count": 4,
   "id": "8bf054a7",
   "metadata": {},
   "outputs": [
    {
     "name": "stdout",
     "output_type": "stream",
     "text": [
      "Total Reward : 801.087027170217\n"
     ]
    }
   ],
   "source": [
    "def main():\n",
    "    n_arms , n_trials = 10,1000\n",
    "    true_means = np.random.rand(n_arms)\n",
    "    ucb = UCB(n_arms)\n",
    "    rewards = np.zeros(n_trials)\n",
    "    \n",
    "    for t in range (n_trials):\n",
    "        arm = ucb.select_arm()\n",
    "        reward = np.random.randn() + true_means[arm]\n",
    "        ucb.update(arm,reward)\n",
    "        rewards[t]=reward\n",
    "    print(\"Total Reward :\",np.sum(rewards))\n",
    "\n",
    "if __name__==\"__main__\":\n",
    "    main()"
   ]
  }
 ],
 "metadata": {
  "kernelspec": {
   "display_name": "Python 3",
   "language": "python",
   "name": "python3"
  },
  "language_info": {
   "codemirror_mode": {
    "name": "ipython",
    "version": 3
   },
   "file_extension": ".py",
   "mimetype": "text/x-python",
   "name": "python",
   "nbconvert_exporter": "python",
   "pygments_lexer": "ipython3",
   "version": "3.11.0"
  }
 },
 "nbformat": 4,
 "nbformat_minor": 5
}
