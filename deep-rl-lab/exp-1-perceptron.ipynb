{
 "cells": [
  {
   "cell_type": "code",
   "execution_count": 2,
   "id": "b739ba2f",
   "metadata": {},
   "outputs": [],
   "source": [
    "import numpy as np"
   ]
  },
  {
   "cell_type": "code",
   "execution_count": null,
   "id": "fe84a01d",
   "metadata": {},
   "outputs": [],
   "source": [
    "class Perceptron:\n",
    "    def __init__(self,input_size,learning_rate=0.01,epochs=1000):\n",
    "        self.weights = np.zeros(input_size+1)\n",
    "        self.learning_rate = learning_rate\n",
    "        self.epochs = epochs\n",
    "      \n",
    "    def activation_function(self,x):\n",
    "        return 1 if x >= 0 else 0\n",
    "    \n",
    "    def predict(self,x):\n",
    "        summation = np.dot(x,self.weights[1:]) + self.weights[0]\n",
    "        return self.activation_function(summation)\n",
    "    \n",
    "    def train(self,training_inputs,labels):\n",
    "        for _ in range(self.epochs):\n",
    "            for inputs,label in zip(training_inputs,labels):\n",
    "                prediction = self.predict(inputs)\n",
    "                self.weights[1:]+=self.learning_rate*(label - prediction)*inputs\n",
    "                self.weights[0]+= self.learning_rate*(label - prediction)\n",
    "    "
   ]
  },
  {
   "cell_type": "code",
   "execution_count": 6,
   "id": "738ff357",
   "metadata": {},
   "outputs": [
    {
     "name": "stdout",
     "output_type": "stream",
     "text": [
      "Prediction for input [1,1]: 1\n"
     ]
    }
   ],
   "source": [
    "training_inputs = np.array([\n",
    "    [0,0],\n",
    "    [0,1],\n",
    "    [1,0],\n",
    "    [1,1]\n",
    "])\n",
    "labels = np.array([0,0,0,1])\n",
    "perceptron = Perceptron(input_size=2)\n",
    "perceptron.train(training_inputs,labels)\n",
    "\n",
    "inputs = np.array([1,1])\n",
    "print(\"Prediction for input [1,1]:\",perceptron.predict(inputs))"
   ]
  }
 ],
 "metadata": {
  "kernelspec": {
   "display_name": "Python 3",
   "language": "python",
   "name": "python3"
  },
  "language_info": {
   "codemirror_mode": {
    "name": "ipython",
    "version": 3
   },
   "file_extension": ".py",
   "mimetype": "text/x-python",
   "name": "python",
   "nbconvert_exporter": "python",
   "pygments_lexer": "ipython3",
   "version": "3.11.0"
  }
 },
 "nbformat": 4,
 "nbformat_minor": 5
}
